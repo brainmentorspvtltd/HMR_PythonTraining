{
 "cells": [
  {
   "cell_type": "code",
   "execution_count": 1,
   "metadata": {
    "collapsed": true
   },
   "outputs": [],
   "source": [
    "import pandas as pd"
   ]
  },
  {
   "cell_type": "code",
   "execution_count": 3,
   "metadata": {
    "collapsed": true
   },
   "outputs": [],
   "source": [
    "dataset = pd.read_csv(\"deliveries.csv\")"
   ]
  },
  {
   "cell_type": "code",
   "execution_count": 4,
   "metadata": {},
   "outputs": [
    {
     "data": {
      "text/plain": [
       "(136598, 21)"
      ]
     },
     "execution_count": 4,
     "metadata": {},
     "output_type": "execute_result"
    }
   ],
   "source": [
    "dataset.shape"
   ]
  },
  {
   "cell_type": "code",
   "execution_count": 5,
   "metadata": {
    "collapsed": true
   },
   "outputs": [],
   "source": [
    "dataset.dropna(inplace=True)"
   ]
  },
  {
   "cell_type": "code",
   "execution_count": 6,
   "metadata": {},
   "outputs": [
    {
     "data": {
      "text/html": [
       "<div>\n",
       "<style>\n",
       "    .dataframe thead tr:only-child th {\n",
       "        text-align: right;\n",
       "    }\n",
       "\n",
       "    .dataframe thead th {\n",
       "        text-align: left;\n",
       "    }\n",
       "\n",
       "    .dataframe tbody tr th {\n",
       "        vertical-align: top;\n",
       "    }\n",
       "</style>\n",
       "<table border=\"1\" class=\"dataframe\">\n",
       "  <thead>\n",
       "    <tr style=\"text-align: right;\">\n",
       "      <th></th>\n",
       "      <th>match_id</th>\n",
       "      <th>inning</th>\n",
       "      <th>batting_team</th>\n",
       "      <th>bowling_team</th>\n",
       "      <th>over</th>\n",
       "      <th>ball</th>\n",
       "      <th>batsman</th>\n",
       "      <th>non_striker</th>\n",
       "      <th>bowler</th>\n",
       "      <th>is_super_over</th>\n",
       "      <th>...</th>\n",
       "      <th>bye_runs</th>\n",
       "      <th>legbye_runs</th>\n",
       "      <th>noball_runs</th>\n",
       "      <th>penalty_runs</th>\n",
       "      <th>batsman_runs</th>\n",
       "      <th>extra_runs</th>\n",
       "      <th>total_runs</th>\n",
       "      <th>player_dismissed</th>\n",
       "      <th>dismissal_kind</th>\n",
       "      <th>fielder</th>\n",
       "    </tr>\n",
       "  </thead>\n",
       "  <tbody>\n",
       "    <tr>\n",
       "      <th>33</th>\n",
       "      <td>1</td>\n",
       "      <td>1</td>\n",
       "      <td>Kolkata Knight Riders</td>\n",
       "      <td>Royal Challengers Bangalore</td>\n",
       "      <td>6</td>\n",
       "      <td>2</td>\n",
       "      <td>SC Ganguly</td>\n",
       "      <td>BB McCullum</td>\n",
       "      <td>Z Khan</td>\n",
       "      <td>0</td>\n",
       "      <td>...</td>\n",
       "      <td>0</td>\n",
       "      <td>0</td>\n",
       "      <td>0</td>\n",
       "      <td>0</td>\n",
       "      <td>0</td>\n",
       "      <td>0</td>\n",
       "      <td>0</td>\n",
       "      <td>SC Ganguly</td>\n",
       "      <td>caught</td>\n",
       "      <td>JH Kallis</td>\n",
       "    </tr>\n",
       "    <tr>\n",
       "      <th>74</th>\n",
       "      <td>1</td>\n",
       "      <td>1</td>\n",
       "      <td>Kolkata Knight Riders</td>\n",
       "      <td>Royal Challengers Bangalore</td>\n",
       "      <td>13</td>\n",
       "      <td>1</td>\n",
       "      <td>RT Ponting</td>\n",
       "      <td>BB McCullum</td>\n",
       "      <td>JH Kallis</td>\n",
       "      <td>0</td>\n",
       "      <td>...</td>\n",
       "      <td>0</td>\n",
       "      <td>0</td>\n",
       "      <td>0</td>\n",
       "      <td>0</td>\n",
       "      <td>0</td>\n",
       "      <td>0</td>\n",
       "      <td>0</td>\n",
       "      <td>RT Ponting</td>\n",
       "      <td>caught</td>\n",
       "      <td>P Kumar</td>\n",
       "    </tr>\n",
       "    <tr>\n",
       "      <th>106</th>\n",
       "      <td>1</td>\n",
       "      <td>1</td>\n",
       "      <td>Kolkata Knight Riders</td>\n",
       "      <td>Royal Challengers Bangalore</td>\n",
       "      <td>18</td>\n",
       "      <td>1</td>\n",
       "      <td>DJ Hussey</td>\n",
       "      <td>BB McCullum</td>\n",
       "      <td>AA Noffke</td>\n",
       "      <td>0</td>\n",
       "      <td>...</td>\n",
       "      <td>0</td>\n",
       "      <td>0</td>\n",
       "      <td>0</td>\n",
       "      <td>0</td>\n",
       "      <td>0</td>\n",
       "      <td>0</td>\n",
       "      <td>0</td>\n",
       "      <td>DJ Hussey</td>\n",
       "      <td>caught</td>\n",
       "      <td>CL White</td>\n",
       "    </tr>\n",
       "    <tr>\n",
       "      <th>154</th>\n",
       "      <td>1</td>\n",
       "      <td>2</td>\n",
       "      <td>Royal Challengers Bangalore</td>\n",
       "      <td>Kolkata Knight Riders</td>\n",
       "      <td>5</td>\n",
       "      <td>5</td>\n",
       "      <td>JH Kallis</td>\n",
       "      <td>W Jaffer</td>\n",
       "      <td>AB Agarkar</td>\n",
       "      <td>0</td>\n",
       "      <td>...</td>\n",
       "      <td>0</td>\n",
       "      <td>0</td>\n",
       "      <td>0</td>\n",
       "      <td>0</td>\n",
       "      <td>0</td>\n",
       "      <td>0</td>\n",
       "      <td>0</td>\n",
       "      <td>JH Kallis</td>\n",
       "      <td>caught</td>\n",
       "      <td>M Kartik</td>\n",
       "    </tr>\n",
       "    <tr>\n",
       "      <th>157</th>\n",
       "      <td>1</td>\n",
       "      <td>2</td>\n",
       "      <td>Royal Challengers Bangalore</td>\n",
       "      <td>Kolkata Knight Riders</td>\n",
       "      <td>6</td>\n",
       "      <td>2</td>\n",
       "      <td>W Jaffer</td>\n",
       "      <td>CL White</td>\n",
       "      <td>AB Dinda</td>\n",
       "      <td>0</td>\n",
       "      <td>...</td>\n",
       "      <td>0</td>\n",
       "      <td>0</td>\n",
       "      <td>0</td>\n",
       "      <td>0</td>\n",
       "      <td>0</td>\n",
       "      <td>0</td>\n",
       "      <td>0</td>\n",
       "      <td>W Jaffer</td>\n",
       "      <td>caught</td>\n",
       "      <td>RT Ponting</td>\n",
       "    </tr>\n",
       "  </tbody>\n",
       "</table>\n",
       "<p>5 rows × 21 columns</p>\n",
       "</div>"
      ],
      "text/plain": [
       "     match_id  inning                 batting_team  \\\n",
       "33          1       1        Kolkata Knight Riders   \n",
       "74          1       1        Kolkata Knight Riders   \n",
       "106         1       1        Kolkata Knight Riders   \n",
       "154         1       2  Royal Challengers Bangalore   \n",
       "157         1       2  Royal Challengers Bangalore   \n",
       "\n",
       "                    bowling_team  over  ball     batsman  non_striker  \\\n",
       "33   Royal Challengers Bangalore     6     2  SC Ganguly  BB McCullum   \n",
       "74   Royal Challengers Bangalore    13     1  RT Ponting  BB McCullum   \n",
       "106  Royal Challengers Bangalore    18     1   DJ Hussey  BB McCullum   \n",
       "154        Kolkata Knight Riders     5     5   JH Kallis     W Jaffer   \n",
       "157        Kolkata Knight Riders     6     2    W Jaffer     CL White   \n",
       "\n",
       "         bowler  is_super_over     ...      bye_runs  legbye_runs  \\\n",
       "33       Z Khan              0     ...             0            0   \n",
       "74    JH Kallis              0     ...             0            0   \n",
       "106   AA Noffke              0     ...             0            0   \n",
       "154  AB Agarkar              0     ...             0            0   \n",
       "157    AB Dinda              0     ...             0            0   \n",
       "\n",
       "     noball_runs  penalty_runs  batsman_runs  extra_runs  total_runs  \\\n",
       "33             0             0             0           0           0   \n",
       "74             0             0             0           0           0   \n",
       "106            0             0             0           0           0   \n",
       "154            0             0             0           0           0   \n",
       "157            0             0             0           0           0   \n",
       "\n",
       "     player_dismissed dismissal_kind     fielder  \n",
       "33         SC Ganguly         caught   JH Kallis  \n",
       "74         RT Ponting         caught     P Kumar  \n",
       "106         DJ Hussey         caught    CL White  \n",
       "154         JH Kallis         caught    M Kartik  \n",
       "157          W Jaffer         caught  RT Ponting  \n",
       "\n",
       "[5 rows x 21 columns]"
      ]
     },
     "execution_count": 6,
     "metadata": {},
     "output_type": "execute_result"
    }
   ],
   "source": [
    "dataset.head()"
   ]
  },
  {
   "cell_type": "code",
   "execution_count": 7,
   "metadata": {},
   "outputs": [
    {
     "data": {
      "text/plain": [
       "DJ Bravo           105\n",
       "R Vinay Kumar      100\n",
       "A Mishra            95\n",
       "SL Malinga          85\n",
       "Harbhajan Singh     84\n",
       "A Nehra             83\n",
       "R Ashwin            80\n",
       "SR Watson           79\n",
       "PP Ojha             79\n",
       "PP Chawla           76\n",
       "Name: bowler, dtype: int64"
      ]
     },
     "execution_count": 7,
     "metadata": {},
     "output_type": "execute_result"
    }
   ],
   "source": [
    "# Top bowlers with maximum wickets\n",
    "pd.value_counts(dataset['bowler'])[:10]"
   ]
  },
  {
   "cell_type": "code",
   "execution_count": 8,
   "metadata": {
    "collapsed": true
   },
   "outputs": [],
   "source": [
    "dataset = pd.read_csv(\"deliveries.csv\")"
   ]
  },
  {
   "cell_type": "code",
   "execution_count": 9,
   "metadata": {
    "collapsed": true
   },
   "outputs": [],
   "source": [
    "df = dataset[dataset['batsman_runs'] == 6]"
   ]
  },
  {
   "cell_type": "code",
   "execution_count": 10,
   "metadata": {},
   "outputs": [
    {
     "data": {
      "text/plain": [
       "CH Gayle          252\n",
       "RG Sharma         164\n",
       "SK Raina          161\n",
       "V Kohli           149\n",
       "YK Pathan         143\n",
       "AB de Villiers    142\n",
       "MS Dhoni          140\n",
       "DA Warner         134\n",
       "Yuvraj Singh      133\n",
       "KA Pollard        125\n",
       "Name: batsman, dtype: int64"
      ]
     },
     "execution_count": 10,
     "metadata": {},
     "output_type": "execute_result"
    }
   ],
   "source": [
    "pd.value_counts(df['batsman'])[:10]"
   ]
  },
  {
   "cell_type": "code",
   "execution_count": 11,
   "metadata": {
    "collapsed": true
   },
   "outputs": [],
   "source": [
    "df = dataset[dataset['dismissal_kind'] == 'caught']"
   ]
  },
  {
   "cell_type": "code",
   "execution_count": 12,
   "metadata": {},
   "outputs": [
    {
     "data": {
      "text/plain": [
       "KD Karthik        80\n",
       "SK Raina          79\n",
       "AB de Villiers    75\n",
       "MS Dhoni          66\n",
       "RV Uthappa        66\n",
       "RG Sharma         60\n",
       "NV Ojha           59\n",
       "V Kohli           55\n",
       "PA Patel          54\n",
       "DJ Bravo          52\n",
       "Name: fielder, dtype: int64"
      ]
     },
     "execution_count": 12,
     "metadata": {},
     "output_type": "execute_result"
    }
   ],
   "source": [
    "pd.value_counts(df['fielder'])[:10]"
   ]
  },
  {
   "cell_type": "code",
   "execution_count": 14,
   "metadata": {},
   "outputs": [
    {
     "data": {
      "text/plain": [
       "4115"
      ]
     },
     "execution_count": 14,
     "metadata": {},
     "output_type": "execute_result"
    }
   ],
   "source": [
    "d = dataset[dataset['batsman'] == 'V Kohli']\n",
    "d['batsman_runs'].sum()"
   ]
  },
  {
   "cell_type": "code",
   "execution_count": 15,
   "metadata": {
    "collapsed": true
   },
   "outputs": [],
   "source": [
    "df = dataset[dataset['batsman_runs'] != 0]"
   ]
  },
  {
   "cell_type": "code",
   "execution_count": 16,
   "metadata": {},
   "outputs": [
    {
     "data": {
      "text/plain": [
       "(80705, 21)"
      ]
     },
     "execution_count": 16,
     "metadata": {},
     "output_type": "execute_result"
    }
   ],
   "source": [
    "df.shape"
   ]
  },
  {
   "cell_type": "code",
   "execution_count": 17,
   "metadata": {
    "collapsed": true
   },
   "outputs": [],
   "source": [
    "data = []\n",
    "for batsman in dataset['batsman']:\n",
    "    d = dataset[dataset['batsman'] == batsman]\n",
    "    s = d['batsman_runs'].sum()\n",
    "    data.append([batsman,s])"
   ]
  },
  {
   "cell_type": "code",
   "execution_count": null,
   "metadata": {
    "collapsed": true
   },
   "outputs": [],
   "source": []
  }
 ],
 "metadata": {
  "kernelspec": {
   "display_name": "Python 3",
   "language": "python",
   "name": "python3"
  },
  "language_info": {
   "codemirror_mode": {
    "name": "ipython",
    "version": 3
   },
   "file_extension": ".py",
   "mimetype": "text/x-python",
   "name": "python",
   "nbconvert_exporter": "python",
   "pygments_lexer": "ipython3",
   "version": "3.5.4"
  }
 },
 "nbformat": 4,
 "nbformat_minor": 2
}
